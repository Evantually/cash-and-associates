{
 "cells": [
  {
   "cell_type": "code",
   "execution_count": null,
   "id": "98afe66b",
   "metadata": {},
   "outputs": [],
   "source": []
  },
  {
   "cell_type": "code",
   "execution_count": null,
   "id": "cfc98017",
   "metadata": {},
   "outputs": [],
   "source": [
    "def organize_data_by_date(data):\n",
    "    output = {}\n",
    "    for d in data:\n",
    "        try:\n",
    "            output['total'] += 1\n",
    "        except KeyError:\n",
    "            output['total'] = 1\n",
    "        try:\n",
    "            output['sum'] += d.total\n",
    "        except KeyError:\n",
    "            output['sum'] = d.total\n",
    "        try:\n",
    "            output[d.timestamp.data()]\n",
    "        except KeyError:\n",
    "            output[d.timestamp.data()] = {}\n",
    "        try:\n",
    "            output[d.timestamp.date()]['count'] += 1\n",
    "        except KeyError:\n",
    "            output[d.timestamp.date()]['count'] = 1\n",
    "        try:\n",
    "            output[d.timestamp.date()]['sum'] += d.total\n",
    "        except KeyError:\n",
    "            output[d.timestamp.date()]['sum'] = d.total\n",
    "    return output"
   ]
  }
 ],
 "metadata": {
  "kernelspec": {
   "display_name": "Python 3",
   "language": "python",
   "name": "python3"
  },
  "language_info": {
   "codemirror_mode": {
    "name": "ipython",
    "version": 3
   },
   "file_extension": ".py",
   "mimetype": "text/x-python",
   "name": "python",
   "nbconvert_exporter": "python",
   "pygments_lexer": "ipython3",
   "version": "3.8.8"
  }
 },
 "nbformat": 4,
 "nbformat_minor": 5
}
